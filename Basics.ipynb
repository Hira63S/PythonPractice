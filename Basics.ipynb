{
 "cells": [
  {
   "cell_type": "markdown",
   "metadata": {},
   "source": [
    "## Python Basics"
   ]
  },
  {
   "cell_type": "markdown",
   "metadata": {},
   "source": [
    "[link to the article](https://towardsdatascience.com/10-examples-to-master-args-and-kwargs-in-python-6f1e8cc30749)"
   ]
  },
  {
   "cell_type": "markdown",
   "metadata": {},
   "source": [
    "## Keyword vs. Positional Arguments\n",
    "\n",
    "#### Keyword\n",
    "- comes with a name and a default value\n",
    "\n",
    "#### Positional Argument\n",
    "- declared by name only, needs to be specified otherwise, would throw an error.\n",
    "\n",
    "keyword arguments are specified after positional arguments:\n",
    "```\n",
    "def function(tes, nam, lee, hyun='bin')\n",
    "    return test+nam+lee+hyun\n",
    "```\n",
    "In the above argument, hyun is the keyword argument.\n"
   ]
  },
  {
   "cell_type": "markdown",
   "metadata": {},
   "source": [
    "## **kwargs vs. *args\n",
    "\n",
    "** **kwargs allow a function to take on any number of arguments **\n",
    "\n",
    "**kwargs is an empty dictionary. defined by keyword.\n",
    "Each undefined keyword argument is stores as a key-value pair in the **kwargs dictionary.\n",
    "``` def func(tes, elo, mus, **kwargs):\n",
    "    print(tes+elo+mus)\n",
    "    print(**kwargs)\n",
    "    \n",
    "func('y', 'n', 'k', param1=billi)\n",
    "would print: \n",
    "ynk\n",
    "{'param1':'billi'}\n",
    "```\n",
    "\n",
    "Both *args and **kwargs can be used in the function but *args have to be defined before **kwargs\n",
    "\n",
    "We can pass in a list of items in the dictionary.\n",
    "``` \n",
    "    def func(*args):\n",
    "        return args\n",
    "        \n",
    "list = [1, 2, 3]\n",
    "func(list)\n",
    "would return a tuple like so:\n",
    "([1,2,3],)\n",
    "\n",
    "func(*list)\n",
    "would return:\n",
    "(1, 2, 3)\n",
    "\n",
    "```\n",
    "\n",
    "Compared to the above function, if we pass in kwargs, the input has to be a mapping such as a dictionary.\n",
    "\n",
    "dict ={'amina': 'baby', 'age':'4'}\n",
    "\n",
    "func(**dict)"
   ]
  },
  {
   "cell_type": "code",
   "execution_count": null,
   "metadata": {},
   "outputs": [],
   "source": []
  },
  {
   "cell_type": "code",
   "execution_count": null,
   "metadata": {},
   "outputs": [],
   "source": []
  }
 ],
 "metadata": {
  "kernelspec": {
   "display_name": "Python 3 (ipykernel)",
   "language": "python",
   "name": "python3"
  },
  "language_info": {
   "codemirror_mode": {
    "name": "ipython",
    "version": 3
   },
   "file_extension": ".py",
   "mimetype": "text/x-python",
   "name": "python",
   "nbconvert_exporter": "python",
   "pygments_lexer": "ipython3",
   "version": "3.10.0"
  }
 },
 "nbformat": 4,
 "nbformat_minor": 4
}
