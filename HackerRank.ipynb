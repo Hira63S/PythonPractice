{
 "cells": [
  {
   "cell_type": "markdown",
   "metadata": {},
   "source": [
    "# Python Practice for HackerRank Challenges"
   ]
  },
  {
   "cell_type": "code",
   "execution_count": 2,
   "metadata": {},
   "outputs": [],
   "source": [
    "# For your reference:\n",
    "#\n",
    "# DoublyLinkedListNode:\n",
    "#     int data\n",
    "#     DoublyLinkedListNode next\n",
    "#     DoublyLinkedListNode prev\n",
    "#\n",
    "#\n",
    "# we will only be passed the head node:\n",
    "# iteratively vs recursively\n",
    "'''\n",
    "WE want to change the pointers from every node to the next to the previous node \n",
    "need two pointers:\n",
    "1st is at the head \n",
    "prev pointer is set to NUll\n",
    "For the first node, take the next pointer and reverse it \n",
    "\n",
    "\n",
    "'''\n",
    "def reverse(head):\n",
    "    # curr = head \n",
    "    # prev = None\n",
    "    # head_n = prev\n",
    "    # head_n = curr.next() \n",
    "    # curr = curr.next()\n",
    "    # prev = curr\n",
    "    while curr:\n",
    "        nxt = curr.next\n",
    "        curr.next = prev\n",
    "        prev = curr\n",
    "        curr = nxt\n",
    "    return curr"
   ]
  },
  {
   "cell_type": "code",
   "execution_count": null,
   "metadata": {},
   "outputs": [],
   "source": []
  },
  {
   "cell_type": "markdown",
   "metadata": {},
   "source": [
    "## Arrays\n",
    "\n",
    "Challenges concerning arrays and moving items around in arrays."
   ]
  },
  {
   "cell_type": "markdown",
   "metadata": {},
   "source": [
    "1. Move items in an array.\n",
    "    - Move the first item i.e. the item at index 0 to the end of the array.\n",
    "    \n",
    "    ``` arr = [1, 2, 3, 4, 5]\n",
    "    # move the item at the zero index i.e. 1 to the end so that the array becomes;\n",
    "    arr = [2, 3, 4, 5, 1]\n",
    "    to do so, we can do:\n",
    "    arr += [arr.pop(0)]\n",
    "    and it would simply move the 1 in the beginning of the array to the end.\n",
    "    ```"
   ]
  },
  {
   "cell_type": "code",
   "execution_count": 8,
   "metadata": {},
   "outputs": [],
   "source": [
    "def rotLeft(a, d):\n",
    "    # Write your code here\n",
    "    for i in range(d):\n",
    "        print(a)\n",
    "#         x = a.pop(0)\n",
    "#         print(x)\n",
    "        a += [a.pop(0)]\n",
    "        \n",
    "    return a"
   ]
  },
  {
   "cell_type": "code",
   "execution_count": 9,
   "metadata": {},
   "outputs": [
    {
     "name": "stdout",
     "output_type": "stream",
     "text": [
      "[1, 2, 3, 4, 5]\n",
      "[2, 3, 4, 5, 1]\n",
      "[3, 4, 5, 1, 2]\n"
     ]
    }
   ],
   "source": [
    "a = [1, 2, 3, 4, 5]\n",
    "rotLeft(a, 2)\n",
    "print(a)"
   ]
  },
  {
   "cell_type": "code",
   "execution_count": 17,
   "metadata": {},
   "outputs": [],
   "source": [
    "# this does not work because you are taking the last item and in order to put it in the first \n",
    "# you would have to move all the other elements in the array one over.\n",
    "def rotRight(a, d):\n",
    "    for i in range(d):\n",
    "        \n",
    "        a += [a.pop((len(a)-1))]\n",
    "        \n",
    "    return a"
   ]
  },
  {
   "cell_type": "code",
   "execution_count": 18,
   "metadata": {},
   "outputs": [
    {
     "name": "stdout",
     "output_type": "stream",
     "text": [
      "[[4], 2, 3]\n"
     ]
    }
   ],
   "source": [
    "a=[1,2,3,4,5]\n",
    "rotRight(a,2)\n",
    "print(a)"
   ]
  },
  {
   "cell_type": "markdown",
   "metadata": {},
   "source": [
    "However, this might work:"
   ]
  },
  {
   "cell_type": "code",
   "execution_count": 22,
   "metadata": {},
   "outputs": [],
   "source": [
    "from collections import deque\n",
    "a = deque([1,2,3,4])\n",
    "a.rotate(1)\n",
    "# deque([4, 1, 2, 3])"
   ]
  },
  {
   "cell_type": "code",
   "execution_count": 24,
   "metadata": {},
   "outputs": [
    {
     "data": {
      "text/plain": [
       "('a.insert(0,a.pop(-1))', 'a=[1,2,3,4]')"
      ]
     },
     "execution_count": 24,
     "metadata": {},
     "output_type": "execute_result"
    }
   ],
   "source": [
    "# this would also work in that case:\n",
    "\n",
    "'a.insert(0,a.pop(-1))', 'a=[1,2,3,4]'"
   ]
  },
  {
   "cell_type": "code",
   "execution_count": null,
   "metadata": {},
   "outputs": [],
   "source": []
  }
 ],
 "metadata": {
  "kernelspec": {
   "display_name": "Python 3 (ipykernel)",
   "language": "python",
   "name": "python3"
  },
  "language_info": {
   "codemirror_mode": {
    "name": "ipython",
    "version": 3
   },
   "file_extension": ".py",
   "mimetype": "text/x-python",
   "name": "python",
   "nbconvert_exporter": "python",
   "pygments_lexer": "ipython3",
   "version": "3.10.0"
  }
 },
 "nbformat": 4,
 "nbformat_minor": 4
}
