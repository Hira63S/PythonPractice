{
 "cells": [
  {
   "cell_type": "markdown",
   "metadata": {},
   "source": [
    "# Probability and Statistics\n",
    "\n"
   ]
  },
  {
   "cell_type": "markdown",
   "metadata": {},
   "source": [
    "### nature of the data \n",
    "Normal Distribution - symmetry and shape\n",
    "The high point represents the event with the highest probability of occurring.\n",
    "Central Limit Theory: Would look like normal distribution. \n",
    "Three Sigma Rule: 68% of observation will fall between the 1 standard deviation of the mean.\n",
    "Z-score  = (data_point - mean) / (Std)\n",
    "For a data point, how far is it from the mean in terms of standard deviations.\n",
    "Standard normal distribution is with a mean of 0 and std of 1.\n",
    "Z-score lets us refer that table. \n"
   ]
  },
  {
   "cell_type": "code",
   "execution_count": 5,
   "metadata": {},
   "outputs": [
    {
     "name": "stdout",
     "output_type": "stream",
     "text": [
      "0.08\n"
     ]
    }
   ],
   "source": [
    "cards = 52\n",
    "aces = 4\n",
    "prob = aces/cards\n",
    "print(round(prob, 2))"
   ]
  },
  {
   "cell_type": "code",
   "execution_count": 6,
   "metadata": {},
   "outputs": [
    {
     "name": "stdout",
     "output_type": "stream",
     "text": [
      "7.6923076923076925\n"
     ]
    }
   ],
   "source": [
    "prob_percent = prob * 100\n",
    "print(prob_percent)"
   ]
  },
  {
   "cell_type": "code",
   "execution_count": 8,
   "metadata": {},
   "outputs": [
    {
     "name": "stdout",
     "output_type": "stream",
     "text": [
      "Probability of drawing Hearts cards: 25\n",
      "Probability of drawing face cards: 23\n",
      "Probability of drawing queen of hearts: 2\n"
     ]
    }
   ],
   "source": [
    "def event_probability(event_outcomes, sample_space):\n",
    "    probability = (event_outcomes / sample_space) * 100\n",
    "    return round(probability)\n",
    "\n",
    "cards = 52\n",
    "\n",
    "hearts = 13 \n",
    "face_cards = 12 # 3 for queen, king, joker, and 4 different card stacks\n",
    "queen_of_hearts = 1 \n",
    "print(\"Probability of drawing Hearts cards: {}\".format(event_probability(hearts, cards)))\n",
    "print(\"Probability of drawing face cards: {}\".format(event_probability(face_cards, cards)))\n",
    "print(\"Probability of drawing queen of hearts: {}\".format(event_probability(queen_of_hearts, cards)))\n",
    "\n",
    "\n"
   ]
  },
  {
   "cell_type": "code",
   "execution_count": 13,
   "metadata": {},
   "outputs": [
    {
     "name": "stdout",
     "output_type": "stream",
     "text": [
      "12.0\n"
     ]
    }
   ],
   "source": [
    "# permutations: When the order does not matter, it is a combination\n",
    "# Combination: When the order does matter, it is a permutation\n",
    "import math\n",
    "n = 4\n",
    "k = 2\n",
    "permutations= math.factorial(n) / math.factorial(k)\n",
    "print(permutations)"
   ]
  },
  {
   "cell_type": "code",
   "execution_count": 16,
   "metadata": {},
   "outputs": [
    {
     "name": "stdout",
     "output_type": "stream",
     "text": [
      "2652.0\n",
      "1326.0\n"
     ]
    }
   ],
   "source": [
    "# combination: when the order does not matter:\n",
    "n = 52\n",
    "k = 2\n",
    "# for combination, we find the permutations first\n",
    "permutations = math.factorial(n) / math.factorial(n - k)\n",
    "# the we find combinations:\n",
    "combinations = permutations / math.factorial(k)\n",
    "\n",
    "print(permutations)\n",
    "print(combinations)"
   ]
  },
  {
   "cell_type": "code",
   "execution_count": 19,
   "metadata": {},
   "outputs": [
    {
     "name": "stdout",
     "output_type": "stream",
     "text": [
      "24\n"
     ]
    }
   ],
   "source": [
    "# mutally exclusive events:\n",
    "# drawing a heart or drawing a club\n",
    "# drawing an ace, a king or a queen.\n",
    "\n",
    "cards = 52\n",
    "hearts = 13\n",
    "clubs = 13\n",
    "heart_or_club = event_probability(hearts, cards)+ event_probability(clubs, cards)\n",
    "\n",
    "queen = 4\n",
    "king = 4\n",
    "ace = 4\n",
    "\n",
    "ace_king_or_queen = event_probability(queen, cards) + event_probability(king, cards) + event_probability(ace, cards)\\\n",
    "\n",
    "print(ace_king_or_queen)"
   ]
  },
  {
   "cell_type": "markdown",
   "metadata": {},
   "source": [
    "# Descriptive Statistics\n",
    "\n",
    "The goal of descriptive statistics is to take a collection of large values, potentially thousands and millions and display them or present them in terms of frequency distributions, mean, median or mode so that it is easy to understand.\n",
    "To get central tendency, or location, we have stats like median., mean, and mode.\n",
    "Variance: How spread out the scores are around the mean by averaging the squares of diferences between teh scores and the mean of the scores. \n",
    "\n",
    "np.sum((U - mean)^2)/len(arr_of_u)\n",
    "\n",
    "mean((U-mean(u))^2)\n",
    "\n",
    "std - variability of the scores based on the square root of the variance. \n",
    "\n",
    "\n",
    "Normal Distribution:\n",
    "Scores are symmetrically distributed wih a single mode that is equal to both the mean and the median.\n",
    "\n",
    ".  So the binomial probability distribution formula consists of two parts: a part that finds the probability of having x Successes and (N - x) Failures, and a part that counts the number of ways this can happen.  The product of these two parts gives the probability of x Successes in N trials."
   ]
  },
  {
   "cell_type": "markdown",
   "metadata": {},
   "source": [
    "# Events as sets:\n",
    "\n",
    "mutually exclusive events: they share no outocme in common i.e. they cannot happen on the same trial as the experiment. \n",
    "exhaustive: If every outcome in the sample space occurs in at least on of the events in the collection.\n"
   ]
  },
  {
   "cell_type": "code",
   "execution_count": 30,
   "metadata": {},
   "outputs": [],
   "source": [
    "expected_values = [0.9, 0.2, 0.4]\n"
   ]
  },
  {
   "cell_type": "code",
   "execution_count": 31,
   "metadata": {},
   "outputs": [
    {
     "data": {
      "text/plain": [
       "0.018215124959599437"
      ]
     },
     "execution_count": 31,
     "metadata": {},
     "output_type": "execute_result"
    }
   ],
   "source": [
    "import random\n",
    "random.normalvariate(0, 0.05)"
   ]
  },
  {
   "cell_type": "code",
   "execution_count": 32,
   "metadata": {},
   "outputs": [
    {
     "name": "stdout",
     "output_type": "stream",
     "text": [
      "[-0.012811225012256414, 0.029461939688686586, 0.09608543944079002]\n"
     ]
    }
   ],
   "source": [
    "list_ran = [random.normalvariate(0, 0.05) for i in range(len(sent_values))]\n",
    "print(list_ran)"
   ]
  },
  {
   "cell_type": "code",
   "execution_count": 34,
   "metadata": {},
   "outputs": [
    {
     "name": "stdout",
     "output_type": "stream",
     "text": [
      "[0.8871887749877436, 0.2294619396886866, 0.49608543944079003]\n"
     ]
    }
   ],
   "source": [
    "received_list = []\n",
    "for i, k in zip(expected_values, list_ran):\n",
    "    received_list.append(i + k)\n",
    "        \n",
    "print(received_list)"
   ]
  },
  {
   "cell_type": "code",
   "execution_count": null,
   "metadata": {},
   "outputs": [],
   "source": []
  },
  {
   "cell_type": "code",
   "execution_count": 8,
   "metadata": {},
   "outputs": [
    {
     "name": "stdout",
     "output_type": "stream",
     "text": [
      "[1.200588230643429, 0.4751997006384801, -0.2657031142832127]\n"
     ]
    }
   ],
   "source": [
    "received_list = [x+y for x, y in zip(received_values, list_ran)]\n",
    "print(received_list)"
   ]
  },
  {
   "cell_type": "code",
   "execution_count": 14,
   "metadata": {},
   "outputs": [],
   "source": [
    "import numpy as np"
   ]
  },
  {
   "cell_type": "code",
   "execution_count": 35,
   "metadata": {},
   "outputs": [],
   "source": [
    "mean_abs_error = sum([np.abs(x - y) for x, y in zip(received_list, expected_values)])"
   ]
  },
  {
   "cell_type": "code",
   "execution_count": 36,
   "metadata": {},
   "outputs": [
    {
     "name": "stdout",
     "output_type": "stream",
     "text": [
      "0.138358604141733\n"
     ]
    }
   ],
   "source": [
    "print(mean_abs_error)"
   ]
  },
  {
   "cell_type": "code",
   "execution_count": 33,
   "metadata": {},
   "outputs": [
    {
     "name": "stdout",
     "output_type": "stream",
     "text": [
      "0.0739260148091101\n"
     ]
    }
   ],
   "source": [
    "# we do not have access to sent values\n",
    "diff = sum(sent_values) - sum(received_list)\n",
    "print(diff)"
   ]
  },
  {
   "cell_type": "code",
   "execution_count": 35,
   "metadata": {},
   "outputs": [
    {
     "data": {
      "text/plain": [
       "0.005465055665556765"
      ]
     },
     "execution_count": 35,
     "metadata": {},
     "output_type": "execute_result"
    }
   ],
   "source": [
    "diff*diff"
   ]
  },
  {
   "cell_type": "code",
   "execution_count": 37,
   "metadata": {},
   "outputs": [
    {
     "name": "stdout",
     "output_type": "stream",
     "text": [
      "0.49608543944079003\n"
     ]
    }
   ],
   "source": [
    "# sending is only one value\n",
    "# receieve actually gets all the other values and we add one more value i.e. at the current node.\n",
    "\n",
    "# we want the absolute error of the mean to be <0.1\n",
    "med = np.median(received_list)\n",
    "print(med)"
   ]
  },
  {
   "cell_type": "code",
   "execution_count": 39,
   "metadata": {},
   "outputs": [
    {
     "name": "stdout",
     "output_type": "stream",
     "text": [
      "0.8871887749877436\n",
      "0.2294619396886866\n",
      "0.49608543944079003\n",
      "[0.3911033355469536, -0.2666234997521034, 0.0]\n",
      "0.12447983579485017\n"
     ]
    }
   ],
   "source": [
    "total = []\n",
    "for y in received_list:\n",
    "    print(y)\n",
    "    total.append(y - med)\n",
    "print(total)\n",
    "print(sum(total))"
   ]
  },
  {
   "cell_type": "code",
   "execution_count": 40,
   "metadata": {},
   "outputs": [],
   "source": [
    "mean_abs_error = sum([np.abs(x - y) for x, y in zip(total, expected_values)])"
   ]
  },
  {
   "cell_type": "code",
   "execution_count": 41,
   "metadata": {},
   "outputs": [
    {
     "name": "stdout",
     "output_type": "stream",
     "text": [
      "1.3755201642051498\n"
     ]
    }
   ],
   "source": [
    "print(mean_abs_error)"
   ]
  },
  {
   "cell_type": "code",
   "execution_count": 38,
   "metadata": {},
   "outputs": [],
   "source": [
    "new_list = []\n",
    "for i in received_list:\n",
    "    new_list.append(i - med)"
   ]
  },
  {
   "cell_type": "code",
   "execution_count": 27,
   "metadata": {},
   "outputs": [
    {
     "name": "stdout",
     "output_type": "stream",
     "text": [
      "[0.4280751367993993, 0.5356032792538641, 0.5, -0.27192486320060066, -0.16439672074613582, -0.2, -0.07192486320060065, 0.035603279253864195, 0.0]\n"
     ]
    }
   ],
   "source": [
    "print(total)"
   ]
  },
  {
   "cell_type": "code",
   "execution_count": 42,
   "metadata": {},
   "outputs": [
    {
     "data": {
      "text/plain": [
       "0.2980900052922215"
      ]
     },
     "execution_count": 42,
     "metadata": {},
     "output_type": "execute_result"
    }
   ],
   "source": [
    "sum([np.average(np.abs(x)) for x in new_list])"
   ]
  },
  {
   "cell_type": "markdown",
   "metadata": {},
   "source": [
    "Secondquestion:\n",
    "    \n",
    "The send function adds random variablesfrom mean = 0 and variance = 0.05 to the values.\n",
    "When the receive function receives all the values, what should we do so that the mean_absolute_error is <.1 so that all functions roughly agree.\n",
    "\n",
    "Third question:\n",
    "    \n",
    "what to do about the send function? Because the receive function only receives variables in a range 0f [0, 1] so for floats greater than 1 get reduced to 1.\n"
   ]
  },
  {
   "cell_type": "code",
   "execution_count": null,
   "metadata": {},
   "outputs": [],
   "source": []
  },
  {
   "cell_type": "code",
   "execution_count": null,
   "metadata": {},
   "outputs": [],
   "source": []
  },
  {
   "cell_type": "code",
   "execution_count": null,
   "metadata": {},
   "outputs": [],
   "source": [
    "np.random.seed(1)\n",
    "A_prev = np.random.randn(2, 5, 7, 4)\n",
    "W = np.random.randn(3, 3, 4, 8)\n",
    "b = np.random.randn(1, 1, 1, 8)\n",
    "hparameters = {\"pad\" : 1,\n",
    "               \"stride\": 2}\n",
    "\n",
    "Z, cache_conv = conv_forward(A_prev, W, b, hparameters)\n",
    "print(\"Z's mean =\\n\", np.mean(Z))\n",
    "print(\"Z[0,2,1] =\\n\", Z[0, 2, 1])\n",
    "print(\"cache_conv[0][1][2][3] =\\n\", cache_conv[0][1][2][3])\n",
    "\n",
    "conv_forward_test(conv_forward)\n",
    "\n"
   ]
  },
  {
   "cell_type": "code",
   "execution_count": null,
   "metadata": {},
   "outputs": [],
   "source": []
  },
  {
   "cell_type": "code",
   "execution_count": 3,
   "metadata": {},
   "outputs": [
    {
     "name": "stdout",
     "output_type": "stream",
     "text": [
      "t1: 1. t2: 1\n",
      "1\n",
      "t1: 1. t2: 2\n",
      "2\n",
      "t1: 2. t2: 5\n",
      "5\n"
     ]
    }
   ],
   "source": [
    "t1 = 0\n",
    "t2 = 1\n",
    "n = 5\n",
    "count = 2\n",
    "while count < n:\n",
    "    tots = t1 + t2**2\n",
    "    t1 = t2\n",
    "    t2 = tots\n",
    "    count +=1\n",
    "    print('t1: {}. t2: {}'.format(t1, t2))\n",
    "    print(tots)"
   ]
  },
  {
   "cell_type": "code",
   "execution_count": 13,
   "metadata": {},
   "outputs": [
    {
     "name": "stdout",
     "output_type": "stream",
     "text": [
      "0 A\n",
      "1 a\n",
      "AabcD\n",
      "2 b\n",
      "AabcD\n",
      "3 c\n",
      "AabcD\n",
      "4 D\n"
     ]
    }
   ],
   "source": [
    "a = 'AabcD'\n",
    "b = 'ABDE'\n",
    "if a == b:\n",
    "    print('YES')\n",
    "else:\n",
    "    for i,k in enumerate(a):\n",
    "        print(i, k)\n",
    "        if k.islower():\n",
    "#             print(k)\n",
    "            k.upper()\n",
    "            print(a)"
   ]
  },
  {
   "cell_type": "code",
   "execution_count": 20,
   "metadata": {},
   "outputs": [],
   "source": [
    "a = 'AabcD'\n",
    "# a.upper()\n",
    "new_a = str()"
   ]
  },
  {
   "cell_type": "code",
   "execution_count": 21,
   "metadata": {},
   "outputs": [],
   "source": [
    "for i in a:\n",
    "    if i.islower():\n",
    "        new_a += i.upper()"
   ]
  },
  {
   "cell_type": "code",
   "execution_count": 22,
   "metadata": {},
   "outputs": [
    {
     "data": {
      "text/plain": [
       "'ABC'"
      ]
     },
     "execution_count": 22,
     "metadata": {},
     "output_type": "execute_result"
    }
   ],
   "source": [
    "new_a"
   ]
  },
  {
   "cell_type": "code",
   "execution_count": 5,
   "metadata": {},
   "outputs": [
    {
     "name": "stdout",
     "output_type": "stream",
     "text": [
      "1\n",
      "2\n",
      "3\n",
      "4\n",
      "5\n",
      "6\n",
      "7\n"
     ]
    }
   ],
   "source": [
    "n=8\n",
    "for i in range(1, n):\n",
    "    print(i)"
   ]
  },
  {
   "cell_type": "code",
   "execution_count": 6,
   "metadata": {},
   "outputs": [],
   "source": [
    "tots = 0\n",
    "for i in range(1, n):\n",
    "    tots += i"
   ]
  },
  {
   "cell_type": "code",
   "execution_count": 7,
   "metadata": {},
   "outputs": [
    {
     "data": {
      "text/plain": [
       "28"
      ]
     },
     "execution_count": 7,
     "metadata": {},
     "output_type": "execute_result"
    }
   ],
   "source": [
    "tots"
   ]
  },
  {
   "cell_type": "markdown",
   "metadata": {},
   "source": [
    "At the annual meeting of Board of Directors of Acme Inc. If everyone attending shakes hands exactly one time with every other attendee, how many handshakes are there?"
   ]
  },
  {
   "cell_type": "code",
   "execution_count": null,
   "metadata": {},
   "outputs": [],
   "source": [
    "n = 3\n",
    "P1, P2, P3\n",
    "P1 -> P2\n",
    "P1 -> P3\n",
    "P2 -> P3\n",
    "answer = 3\n",
    "n = 4\n",
    "P1 -> p2\n",
    "P1 -> p3\n",
    "p1 -> p4\n",
    "p2 -> p3\n",
    "p2 -> p4\n",
    "p3 -> p4\n",
    "answer = 6\n",
    "\n",
    "8 -> 28\n",
    "for i in range(1, n):\n",
    "n = 8\n",
    "P1 -> p2\n",
    "p1 -> p3\n",
    "p1 -> p4\n",
    "p1 -> p5\n",
    "p1 -? p6\n",
    "p1 -? p7\n",
    "p1 -> p8\n",
    "p2 -> p3\n",
    "p2 -> p4\n",
    "p2 -> p5\n",
    "p2 -> p6\n",
    "p2 -> p7\n",
    "p2 -> p8\n",
    "p3 -> p4\n",
    "p3 - p5\n",
    "3 - 6\n",
    "3-7\n",
    "3-8\n",
    "4-5\n",
    "4-6\n",
    "4-7\n",
    "4-8\n",
    "5-6\n",
    "5-7\n",
    "5-8\n",
    "6-7\n",
    "6-8\n",
    "7-8\n",
    "\n",
    "\n",
    "\n",
    "\n",
    "\n",
    "\n",
    "\n",
    "\n",
    "\n",
    "\n",
    "\n",
    "\n",
    "\n",
    "\n",
    "\n"
   ]
  },
  {
   "cell_type": "code",
   "execution_count": null,
   "metadata": {},
   "outputs": [],
   "source": []
  },
  {
   "cell_type": "code",
   "execution_count": null,
   "metadata": {},
   "outputs": [],
   "source": []
  },
  {
   "cell_type": "markdown",
   "metadata": {},
   "source": [
    "## Skipping over elements in array"
   ]
  },
  {
   "cell_type": "code",
   "execution_count": 47,
   "metadata": {},
   "outputs": [],
   "source": [
    "arr = [4, 1, 2, 5, 10, 9, 8, 5, 6, 9, 2, 4, 1, 0, 2, 4, 1]"
   ]
  },
  {
   "cell_type": "code",
   "execution_count": 48,
   "metadata": {},
   "outputs": [
    {
     "name": "stdout",
     "output_type": "stream",
     "text": [
      "4\n"
     ]
    }
   ],
   "source": [
    "ind = arr[0]\n",
    "print(ind)"
   ]
  },
  {
   "cell_type": "code",
   "execution_count": 57,
   "metadata": {},
   "outputs": [
    {
     "name": "stdout",
     "output_type": "stream",
     "text": [
      "8\n",
      "4\n",
      "1\n"
     ]
    }
   ],
   "source": [
    "# x=1\n",
    "sums = arr[1]\n",
    "# print(sums)\n",
    "for i in range(1, ind):\n",
    "#     x = 1\n",
    "#     sums = arr[x]\n",
    "#     for k,a in enumerate(arr):\n",
    "    indx = i*ind+i+1\n",
    "    print(arr[indx])\n",
    "    sums += arr[indx]\n",
    "#     print(sums)\n",
    "#     print(arr[x+ind+1])"
   ]
  },
  {
   "cell_type": "code",
   "execution_count": 59,
   "metadata": {},
   "outputs": [],
   "source": [
    "def diagonalDifference(arr):\n",
    "    # Write your code here, O(n)\n",
    "    #l, r = left sum, right sum\n",
    "    l, r = 0, 0\n",
    "    # single pass, grab both values\n",
    "    for i in range(len(arr)):\n",
    "        l += arr[i][i]\n",
    "        r += arr[i][-i-1]\n",
    "    return abs(l-r)"
   ]
  },
  {
   "cell_type": "code",
   "execution_count": 58,
   "metadata": {},
   "outputs": [
    {
     "data": {
      "text/plain": [
       "14"
      ]
     },
     "execution_count": 58,
     "metadata": {},
     "output_type": "execute_result"
    }
   ],
   "source": [
    "sums"
   ]
  },
  {
   "cell_type": "code",
   "execution_count": 33,
   "metadata": {},
   "outputs": [
    {
     "name": "stdout",
     "output_type": "stream",
     "text": [
      "9\n",
      "2\n",
      "4\n"
     ]
    },
    {
     "ename": "IndexError",
     "evalue": "list index out of range",
     "output_type": "error",
     "traceback": [
      "\u001b[1;31m---------------------------------------------------------------------------\u001b[0m",
      "\u001b[1;31mIndexError\u001b[0m                                Traceback (most recent call last)",
      "\u001b[1;32m<ipython-input-33-8e5491d66c91>\u001b[0m in \u001b[0;36m<module>\u001b[1;34m\u001b[0m\n\u001b[0;32m      1\u001b[0m \u001b[0ma\u001b[0m \u001b[1;33m=\u001b[0m \u001b[1;36m0\u001b[0m\u001b[1;33m\u001b[0m\u001b[1;33m\u001b[0m\u001b[0m\n\u001b[0;32m      2\u001b[0m \u001b[1;32mfor\u001b[0m \u001b[0mi\u001b[0m \u001b[1;32min\u001b[0m \u001b[0mrange\u001b[0m\u001b[1;33m(\u001b[0m\u001b[0mind\u001b[0m\u001b[1;33m)\u001b[0m\u001b[1;33m:\u001b[0m\u001b[1;33m\u001b[0m\u001b[1;33m\u001b[0m\u001b[0m\n\u001b[1;32m----> 3\u001b[1;33m     \u001b[0mprint\u001b[0m\u001b[1;33m(\u001b[0m\u001b[0marr\u001b[0m\u001b[1;33m[\u001b[0m\u001b[0ma\u001b[0m\u001b[1;33m+\u001b[0m\u001b[0mind\u001b[0m\u001b[1;33m+\u001b[0m\u001b[1;36m1\u001b[0m\u001b[1;33m]\u001b[0m\u001b[1;33m)\u001b[0m\u001b[1;33m\u001b[0m\u001b[1;33m\u001b[0m\u001b[0m\n\u001b[0m\u001b[0;32m      4\u001b[0m     \u001b[0ma\u001b[0m \u001b[1;33m=\u001b[0m \u001b[0ma\u001b[0m\u001b[1;33m+\u001b[0m\u001b[0mind\u001b[0m\u001b[1;33m+\u001b[0m\u001b[1;36m1\u001b[0m\u001b[1;33m\u001b[0m\u001b[1;33m\u001b[0m\u001b[0m\n\u001b[0;32m      5\u001b[0m \u001b[1;31m#     ind =\u001b[0m\u001b[1;33m\u001b[0m\u001b[1;33m\u001b[0m\u001b[1;33m\u001b[0m\u001b[0m\n",
      "\u001b[1;31mIndexError\u001b[0m: list index out of range"
     ]
    }
   ],
   "source": [
    "a = 0\n",
    "for i in range(ind):\n",
    "    print(arr[a+ind+1])\n",
    "    a = a+ind+1\n",
    "#     ind = "
   ]
  },
  {
   "cell_type": "code",
   "execution_count": null,
   "metadata": {},
   "outputs": [],
   "source": [
    "sums = 0\n",
    "sums = arr[1]\n",
    "for i in range(ind):\n",
    "    sums += arr[]\n",
    "    "
   ]
  },
  {
   "cell_type": "code",
   "execution_count": 23,
   "metadata": {},
   "outputs": [
    {
     "name": "stdout",
     "output_type": "stream",
     "text": [
      "4\n"
     ]
    },
    {
     "ename": "IndexError",
     "evalue": "list index out of range",
     "output_type": "error",
     "traceback": [
      "\u001b[1;31m---------------------------------------------------------------------------\u001b[0m",
      "\u001b[1;31mIndexError\u001b[0m                                Traceback (most recent call last)",
      "\u001b[1;32m<ipython-input-23-f2220cad1756>\u001b[0m in \u001b[0;36m<module>\u001b[1;34m\u001b[0m\n\u001b[0;32m      6\u001b[0m     \u001b[0mprint\u001b[0m\u001b[1;33m(\u001b[0m\u001b[0marr\u001b[0m\u001b[1;33m[\u001b[0m\u001b[0mk\u001b[0m\u001b[1;33m]\u001b[0m\u001b[1;33m)\u001b[0m\u001b[1;33m\u001b[0m\u001b[1;33m\u001b[0m\u001b[0m\n\u001b[0;32m      7\u001b[0m     \u001b[1;32mfor\u001b[0m \u001b[0mi\u001b[0m\u001b[1;33m,\u001b[0m\u001b[0ma\u001b[0m \u001b[1;32min\u001b[0m \u001b[0menumerate\u001b[0m\u001b[1;33m(\u001b[0m\u001b[0marr\u001b[0m\u001b[1;33m)\u001b[0m\u001b[1;33m:\u001b[0m\u001b[1;33m\u001b[0m\u001b[1;33m\u001b[0m\u001b[0m\n\u001b[1;32m----> 8\u001b[1;33m         \u001b[0msums\u001b[0m \u001b[1;33m+=\u001b[0m \u001b[0marr\u001b[0m\u001b[1;33m[\u001b[0m\u001b[0mi\u001b[0m\u001b[1;33m+\u001b[0m\u001b[0mind\u001b[0m\u001b[1;33m]\u001b[0m\u001b[1;33m\u001b[0m\u001b[1;33m\u001b[0m\u001b[0m\n\u001b[0m",
      "\u001b[1;31mIndexError\u001b[0m: list index out of range"
     ]
    }
   ],
   "source": [
    "# sums = 0\n",
    "sums = arr[0]\n",
    "# for i, a in enumerate(arr):\n",
    "#     print(f'i: {i}, a: {a}'.format(i,a))\n",
    "for k in range(ind):\n",
    "    print(arr[k])\n",
    "    for i,a in enumerate(arr):\n",
    "        sums += arr[i+ind]"
   ]
  },
  {
   "cell_type": "code",
   "execution_count": 26,
   "metadata": {},
   "outputs": [
    {
     "ename": "IndexError",
     "evalue": "list index out of range",
     "output_type": "error",
     "traceback": [
      "\u001b[1;31m---------------------------------------------------------------------------\u001b[0m",
      "\u001b[1;31mIndexError\u001b[0m                                Traceback (most recent call last)",
      "\u001b[1;32m<ipython-input-26-a3a1b2ba95bb>\u001b[0m in \u001b[0;36m<module>\u001b[1;34m\u001b[0m\n\u001b[0;32m      1\u001b[0m \u001b[1;32mfor\u001b[0m \u001b[0mk\u001b[0m \u001b[1;32min\u001b[0m \u001b[0mrange\u001b[0m\u001b[1;33m(\u001b[0m\u001b[0mind\u001b[0m\u001b[1;33m-\u001b[0m\u001b[1;36m1\u001b[0m\u001b[1;33m)\u001b[0m\u001b[1;33m:\u001b[0m\u001b[1;33m\u001b[0m\u001b[1;33m\u001b[0m\u001b[0m\n\u001b[1;32m----> 2\u001b[1;33m     \u001b[0msums\u001b[0m\u001b[1;33m+=\u001b[0m\u001b[0marr\u001b[0m\u001b[1;33m[\u001b[0m\u001b[0mi\u001b[0m\u001b[1;33m+\u001b[0m\u001b[0marr\u001b[0m\u001b[1;33m[\u001b[0m\u001b[1;36m0\u001b[0m\u001b[1;33m]\u001b[0m\u001b[1;33m+\u001b[0m\u001b[1;36m1\u001b[0m\u001b[1;33m]\u001b[0m\u001b[1;33m\u001b[0m\u001b[1;33m\u001b[0m\u001b[0m\n\u001b[0m",
      "\u001b[1;31mIndexError\u001b[0m: list index out of range"
     ]
    }
   ],
   "source": [
    "for k in range(ind-1):\n",
    "    sums+=arr[i+arr[0]+1]"
   ]
  },
  {
   "cell_type": "code",
   "execution_count": null,
   "metadata": {},
   "outputs": [],
   "source": []
  }
 ],
 "metadata": {
  "kernelspec": {
   "display_name": "Python 3",
   "language": "python",
   "name": "python3"
  },
  "language_info": {
   "codemirror_mode": {
    "name": "ipython",
    "version": 3
   },
   "file_extension": ".py",
   "mimetype": "text/x-python",
   "name": "python",
   "nbconvert_exporter": "python",
   "pygments_lexer": "ipython3",
   "version": "3.8.5"
  }
 },
 "nbformat": 4,
 "nbformat_minor": 4
}
